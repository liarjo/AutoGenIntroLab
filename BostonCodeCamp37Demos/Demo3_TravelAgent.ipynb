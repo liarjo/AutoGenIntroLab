{
 "cells": [
  {
   "cell_type": "code",
   "execution_count": null,
   "metadata": {},
   "outputs": [],
   "source": [
    "# 0. Import the necessary libraries\n",
    "import asyncio\n",
    "from typing import List, Sequence\n",
    "\n",
    "from autogen_agentchat.agents import (\n",
    "    BaseChatAgent,\n",
    "    CodingAssistantAgent,\n",
    "    ToolUseAssistantAgent,\n",
    ")\n",
    "from autogen_agentchat.agents import AssistantAgent, Handoff\n",
    "from autogen_agentchat.base import Response\n",
    "from autogen_agentchat.messages import ChatMessage, StopMessage, TextMessage\n",
    "from autogen_agentchat.task import Console, TextMentionTermination\n",
    "from autogen_agentchat.teams import SelectorGroupChat\n",
    "from autogen_core.base import CancellationToken\n",
    "from autogen_core.components.tools import FunctionTool\n",
    "from autogen_ext.models import OpenAIChatCompletionClient\n",
    "from AzModelClient import create_azure_openai_client\n"
   ]
  },
  {
   "cell_type": "code",
   "execution_count": null,
   "metadata": {},
   "outputs": [],
   "source": [
    "#1. Create a UserProxyAgent to include the humman in the loop\n",
    "class UserProxyAgent(BaseChatAgent):\n",
    "    def __init__(self, name: str) -> None:\n",
    "        super().__init__(name, \"A human user.\")\n",
    "\n",
    "    @property\n",
    "    def produced_message_types(self) -> List[type[ChatMessage]]:\n",
    "        return [TextMessage, StopMessage]\n",
    "\n",
    "    async def on_messages(self, messages: Sequence[ChatMessage], cancellation_token: CancellationToken) -> Response:\n",
    "        user_input = await asyncio.get_event_loop().run_in_executor(None, input, \"Enter your response: \")\n",
    "        if \"TERMINATE\" in user_input:\n",
    "            return Response(chat_message=StopMessage(content=\"User has terminated the conversation.\", source=self.name))\n",
    "        return Response(chat_message=TextMessage(content=user_input, source=self.name))\n",
    "\n",
    "    async def on_reset(self, cancellation_token: CancellationToken) -> None:\n",
    "        pass"
   ]
  },
  {
   "cell_type": "code",
   "execution_count": null,
   "metadata": {},
   "outputs": [],
   "source": [
    "#2. tools for the agents\n",
    "#2.1 Create a FlightBookingAgent tool to search for flight options.\n",
    "async def flight_search(start: str, destination: str, date: str) -> str:\n",
    "    return \"\\n\".join(\n",
    "        [\n",
    "            f\"AC24 from {start} to {destination} on {date} is $500\",\n",
    "            f\"UA23 from {start} to {destination} on {date} is $450\",\n",
    "            f\"AL21 from {start} to {destination} on {date} is $400\",\n",
    "        ]\n",
    "    )\n",
    "\n",
    "#2.2 Create a FlightBookingAgent tool to book a flight.\n",
    "async def flight_booking(flight: str, date: str) -> str:\n",
    "    return f\"Booked flight {flight} on {date}\""
   ]
  },
  {
   "cell_type": "code",
   "execution_count": null,
   "metadata": {},
   "outputs": [],
   "source": [
    "#3. The Agent definitions\n",
    "\n",
    "#3.1 USer proxy agent\n",
    "user_proxy = UserProxyAgent(name=\"User\")\n",
    "\n",
    "#3.2 Flight broker agent\n",
    "flight_broker = AssistantAgent (\n",
    "    \"FlightBroker\",\n",
    "    description=\"An assistant for booking flights\",\n",
    "    model_client=create_azure_openai_client(),\n",
    "    tools=[\n",
    "        FunctionTool(flight_search, description=\"Search for flights\"),\n",
    "        FunctionTool(flight_booking, description=\"Book a flight\"),\n",
    "    ],\n",
    ")\n",
    "\n",
    "#3.3 Travel assistant agent\n",
    "travel_assistant = AssistantAgent (\n",
    "    \"TravelAssistant\",\n",
    "    description=\"A travel assistant\",\n",
    "    model_client=create_azure_openai_client(),\n",
    "    system_message=\"You are a travel assistant. If the user confirm not anymore is needed anser with 'TERMINATE'\",\n",
    ")\n"
   ]
  },
  {
   "cell_type": "code",
   "execution_count": null,
   "metadata": {},
   "outputs": [],
   "source": [
    "#4. Create a team of agents to work together including the humman in the loop\n",
    "termination = TextMentionTermination(\"TERMINATE\")\n",
    "team = SelectorGroupChat(\n",
    "    [user_proxy, flight_broker, travel_assistant],\n",
    "        #You need the model to analysis the chat and select the right Agent to handle the conversation\n",
    "    model_client=create_azure_openai_client(),\n",
    "    termination_condition=termination,\n",
    ")"
   ]
  },
  {
   "cell_type": "code",
   "execution_count": null,
   "metadata": {},
   "outputs": [],
   "source": [
    "#5. Run the team!!!\n",
    "stream = team.run_stream(task=\"Help user plan a trip and book a flight.\")\n",
    "await Console(stream)"
   ]
  }
 ],
 "metadata": {
  "kernelspec": {
   "display_name": "autogen",
   "language": "python",
   "name": "python3"
  },
  "language_info": {
   "codemirror_mode": {
    "name": "ipython",
    "version": 3
   },
   "file_extension": ".py",
   "mimetype": "text/x-python",
   "name": "python",
   "nbconvert_exporter": "python",
   "pygments_lexer": "ipython3",
   "version": "3.10.15"
  }
 },
 "nbformat": 4,
 "nbformat_minor": 2
}
