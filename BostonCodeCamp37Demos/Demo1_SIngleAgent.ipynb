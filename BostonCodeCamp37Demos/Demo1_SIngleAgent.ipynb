{
 "cells": [
  {
   "cell_type": "code",
   "execution_count": null,
   "metadata": {},
   "outputs": [],
   "source": [
    "from autogen_agentchat.agents import AssistantAgent\n",
    "from autogen_agentchat.task import Console, TextMentionTermination\n",
    "from autogen_agentchat.teams import RoundRobinGroupChat\n",
    "from autogen_ext.models import OpenAIChatCompletionClient\n",
    "from AzModelClient import create_azure_openai_client\n",
    "\n",
    "import random"
   ]
  },
  {
   "cell_type": "code",
   "execution_count": null,
   "metadata": {},
   "outputs": [],
   "source": [
    "# 1. tools / Skills\n",
    "# Define a tool that returns the weather in a city\n",
    "async def get_weather(city: str) -> str:\n",
    "    temperature = random.randint(-30, 50)  # Generate a random temperature between -30 and 50 degrees\n",
    "    weather_conditions = [\"Sunny\", \"Cloudy\", \"Raining\"]\n",
    "    condition = random.choice(weather_conditions)  # Randomly choose a weather condition\n",
    "    return f\"The weather in {city} is {temperature} degrees and {condition}.\""
   ]
  },
  {
   "cell_type": "code",
   "execution_count": null,
   "metadata": {},
   "outputs": [],
   "source": [
    "# 2. Define the Agent.\n",
    "\n",
    "async def main( promp) -> None:\n",
    "    # Define an agent\n",
    "    weather_agent = AssistantAgent(\n",
    "        name=\"weather_agent\",\n",
    "        model_client= create_azure_openai_client(),\n",
    "        #What are actions (skills) this agent can perform\n",
    "        tools=[get_weather], \n",
    "        #Help the planner to engage this agent to solve a complext task\n",
    "        description=\"I can provide you with the current weather in a city.\", \n",
    "        #System message provide the agent the guide on how to work, samples,limits,constrains and all the Prompt enginer tecnics \n",
    "        system_message= \"\"\"You are a helpful assistant. \n",
    "        Your task is to provide the user with the current weather in a city and write a poem about the city and the weather.\n",
    "        your response should end with the word 'TERMINATE'\n",
    "        \"\"\"\n",
    "    )\n",
    "\n",
    "    # Define termination condition\n",
    "    termination = TextMentionTermination(\"TERMINATE\")\n",
    "\n",
    "    # Define a team\n",
    "    agent_team = RoundRobinGroupChat([weather_agent], termination_condition=termination)\n",
    "\n",
    "    # Run the team and stream messages to the console\n",
    "    stream = agent_team.run_stream(task=promp)\n",
    "    await Console(stream)"
   ]
  },
  {
   "cell_type": "code",
   "execution_count": null,
   "metadata": {},
   "outputs": [],
   "source": [
    "TheTaskToComplete = \"What is the weather in Boston?\"\n",
    "# 3. Run the agent\n",
    "await main(TheTaskToComplete)"
   ]
  }
 ],
 "metadata": {
  "kernelspec": {
   "display_name": "autogen",
   "language": "python",
   "name": "python3"
  },
  "language_info": {
   "codemirror_mode": {
    "name": "ipython",
    "version": 3
   },
   "file_extension": ".py",
   "mimetype": "text/x-python",
   "name": "python",
   "nbconvert_exporter": "python",
   "pygments_lexer": "ipython3",
   "version": "3.10.15"
  }
 },
 "nbformat": 4,
 "nbformat_minor": 2
}
